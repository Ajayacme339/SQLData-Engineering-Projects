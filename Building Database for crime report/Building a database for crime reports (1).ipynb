{
 "cells": [
  {
   "cell_type": "markdown",
   "id": "5f22450c",
   "metadata": {},
   "source": [
    "This Project is about building a database in Postgre SQl Database for reporting different type of crime in Boston City. Through this project I have explored how to design schema, data bases and tables , creating role and granting access to the roles.Boston CSV File has been used as a Dataset for building tables in Postgre SQl Database. Here is the Data Dictionary for the columns:\n",
    "* incident_number - A unique number for incidents\n",
    "* offense_code - Code for Offense type \n",
    "* description - Description for the crime \n",
    "* date - Date at which Crime has occured\n",
    "* day_of_the_week - Day of the week when crime occured\n",
    "* lat - lat details\n",
    "* long - long details "
   ]
  },
  {
   "cell_type": "markdown",
   "id": "0c5ea4db",
   "metadata": {},
   "source": [
    "# Lets Start with Library installation for Postgre SQL"
   ]
  },
  {
   "cell_type": "code",
   "execution_count": 1,
   "id": "f9e142da",
   "metadata": {},
   "outputs": [
    {
     "name": "stdout",
     "output_type": "stream",
     "text": [
      "Requirement already satisfied: psycopg2-binary in c:\\users\\ajaya\\anaconda3\\lib\\site-packages (2.9.9)\n"
     ]
    }
   ],
   "source": [
    "! pip install psycopg2-binary"
   ]
  },
  {
   "cell_type": "markdown",
   "id": "8d46636b",
   "metadata": {},
   "source": [
    "# Connection creation for Postgre SQL DB and Database creation"
   ]
  },
  {
   "cell_type": "code",
   "execution_count": 2,
   "id": "cd6cfdb8",
   "metadata": {},
   "outputs": [],
   "source": [
    "import psycopg2\n",
    "conn = psycopg2.connect(dbname =\"AJAY_POSTGRE_DATABASE\",user = \"postgres\",password = \"Neha@1234\")\n",
    "conn.autocommit = True\n",
    "cur = conn.cursor()\n",
    "cur.execute(\"CREATE DATABASE crime_db8;\")\n",
    "conn.commit()\n",
    "conn.close()"
   ]
  },
  {
   "cell_type": "markdown",
   "id": "4d20b16c",
   "metadata": {},
   "source": [
    "# Schema creation"
   ]
  },
  {
   "cell_type": "code",
   "execution_count": 3,
   "id": "3fbeabe9",
   "metadata": {},
   "outputs": [],
   "source": [
    "import psycopg2\n",
    "conn = psycopg2.connect(dbname =\"crime_db8\",user = \"postgres\",password = \"Neha@1234\")\n",
    "conn.autocommit = True\n",
    "cur = conn.cursor()\n",
    "cur.execute(\"CREATE SCHEMA crimes;\")\n",
    "conn.commit()\n",
    "conn.close()"
   ]
  },
  {
   "cell_type": "markdown",
   "id": "fe8b12cc",
   "metadata": {},
   "source": [
    "# Import csv file"
   ]
  },
  {
   "cell_type": "code",
   "execution_count": 4,
   "id": "61ef8d21",
   "metadata": {},
   "outputs": [],
   "source": [
    "import csv\n",
    "with open(r\"C:\\Users\\ajaya\\Desktop\\boston.csv\") as file:\n",
    "    reader = csv.reader(file)\n",
    "    col_headers = next(reader)\n",
    "    first_row = next(reader)"
   ]
  },
  {
   "cell_type": "markdown",
   "id": "a6e9c390",
   "metadata": {},
   "source": [
    "# Creating auxillary function to get column header and print length of values"
   ]
  },
  {
   "cell_type": "code",
   "execution_count": 5,
   "id": "c8361abf",
   "metadata": {},
   "outputs": [
    {
     "name": "stdout",
     "output_type": "stream",
     "text": [
      "incident_number\t298329\n",
      "offense_code\t219\n",
      "description\t239\n",
      "date\t1177\n",
      "day_of_the_week\t7\n",
      "lat\t18177\n",
      "long\t18177\n"
     ]
    }
   ],
   "source": [
    "def get_col_set(csv_file, col_index):\n",
    "    import csv \n",
    "    values = set()\n",
    "    with open(csv_file,'r') as f:\n",
    "        next(f)\n",
    "        reader = csv.reader(f)\n",
    "        for row in reader:\n",
    "            values.add(row[col_index])\n",
    "        \n",
    "        return values\n",
    "    \n",
    "for i in range(len(col_headers)):\n",
    "    values = get_col_set(r\"C:\\Users\\ajaya\\Desktop\\boston.csv\", i)\n",
    "    print(col_headers[i], len(values), sep='\\t')\n",
    "    "
   ]
  },
  {
   "cell_type": "code",
   "execution_count": 6,
   "id": "e09c7441",
   "metadata": {
    "scrolled": true
   },
   "outputs": [
    {
     "name": "stdout",
     "output_type": "stream",
     "text": [
      "['incident_number', 'offense_code', 'description', 'date', 'day_of_the_week', 'lat', 'long']\n"
     ]
    }
   ],
   "source": [
    "print(col_headers)"
   ]
  },
  {
   "cell_type": "code",
   "execution_count": 7,
   "id": "e46dfb89",
   "metadata": {},
   "outputs": [
    {
     "name": "stdout",
     "output_type": "stream",
     "text": [
      "58\n"
     ]
    }
   ],
   "source": [
    "descriptions = get_col_set(r\"C:\\Users\\ajaya\\Desktop\\boston.csv\", 2) # description is at index number 2\n",
    "max_len = 0\n",
    "for description in descriptions:\n",
    "    max_len = max(max_len, len(description))\n",
    "print(max_len)\n",
    "    "
   ]
  },
  {
   "cell_type": "code",
   "execution_count": 8,
   "id": "f5752985",
   "metadata": {},
   "outputs": [
    {
     "name": "stdout",
     "output_type": "stream",
     "text": [
      "['incident_number', 'offense_code', 'description', 'date', 'day_of_the_week', 'lat', 'long']\n",
      "['1', '619', 'LARCENY ALL OTHERS', '2018-09-02', 'Sunday', '42.35779134', '-71.13937053']\n"
     ]
    }
   ],
   "source": [
    "print(col_headers)\n",
    "print(first_row)"
   ]
  },
  {
   "cell_type": "markdown",
   "id": "69c76ca2",
   "metadata": {},
   "source": [
    "# Table creation and load data into postgre tables"
   ]
  },
  {
   "cell_type": "code",
   "execution_count": 9,
   "id": "1181ed74",
   "metadata": {},
   "outputs": [],
   "source": [
    "conn = psycopg2.connect(dbname =\"crime_db8\",user = \"postgres\",password = \"Neha@1234\")\n",
    "conn.autocommit = True\n",
    "cur = conn.cursor()\n",
    "cur.execute(\"\"\"\n",
    "    CREATE TYPE weekday AS ENUM ('Monday', 'Tuesday', 'Wednesday', 'Thursday', 'Friday', 'Saturday', 'Sunday');\n",
    "\"\"\")\n",
    "# Create the table.\n",
    "cur.execute(\"\"\"\n",
    "    CREATE TABLE crimes.boston_crimes1 (\n",
    "        incident_number INTEGER,\n",
    "        offense_code INTEGER,\n",
    "        description VARCHAR(100),\n",
    "        date DATE,\n",
    "        day_of_the_week weekday,\n",
    "        lat decimal,\n",
    "        long decimal\n",
    "    );\n",
    "\"\"\")\n",
    "conn.commit()\n",
    "conn.close()"
   ]
  },
  {
   "cell_type": "code",
   "execution_count": 10,
   "id": "f010c546",
   "metadata": {},
   "outputs": [
    {
     "name": "stdout",
     "output_type": "stream",
     "text": [
      "298328\n"
     ]
    }
   ],
   "source": [
    "conn = psycopg2.connect(dbname =\"crime_db8\",user = \"postgres\",password = \"Neha@1234\")\n",
    "conn.autocommit = True\n",
    "cur = conn.cursor()\n",
    "with open(r\"C:\\Users\\ajaya\\Desktop\\boston.csv\") as f:\n",
    "     cur.copy_expert(\"COPY crimes.boston_crimes1 FROM STDIN WITH CSV HEADER;\", f)\n",
    "cur.execute(\"SELECT * FROM crimes.boston_crimes1\")\n",
    "cur.fetchone()\n",
    "print(len(cur.fetchall()))\n",
    "conn.commit()\n",
    "conn.close()"
   ]
  },
  {
   "cell_type": "markdown",
   "id": "f1f902f2",
   "metadata": {},
   "source": [
    "# Boston CSV file was loaded to postgre SQL . 298328 records were loaded in crimes table"
   ]
  },
  {
   "cell_type": "markdown",
   "id": "bce47d12",
   "metadata": {},
   "source": [
    "# Revoke public access on all schema and databases "
   ]
  },
  {
   "cell_type": "code",
   "execution_count": 11,
   "id": "d72de72e",
   "metadata": {},
   "outputs": [],
   "source": [
    "\n",
    "conn = psycopg2.connect(dbname =\"crime_db8\",user = \"postgres\",password = \"Neha@1234\")\n",
    "conn.autocommit = True\n",
    "cur = conn.cursor()\n",
    "cur.execute(\"REVOKE ALL ON SCHEMA public FROM public;\")\n",
    "cur.execute(\"REVOKE ALL ON DATABASE crime_db8 FROM public;\")\n",
    "conn.commit()\n",
    "conn.close()"
   ]
  },
  {
   "cell_type": "markdown",
   "id": "0eda3ba3",
   "metadata": {},
   "source": [
    "# Grant access on schema for readonly and readwrite group. Grant select ,insert,delete ,update access to all table to readwrite group."
   ]
  },
  {
   "cell_type": "code",
   "execution_count": 12,
   "id": "84ff24a1",
   "metadata": {},
   "outputs": [],
   "source": [
    "conn = psycopg2.connect(dbname =\"crime_db8\",user = \"postgres\",password = \"Neha@1234\")\n",
    "conn.autocommit = True\n",
    "cur = conn.cursor()\n",
    "#cur.execute(\"CREATE GROUP readonly NOLOGIN;\")\n",
    "#cur.execute(\"CREATE GROUP readwrite NOLOGIN;\")\n",
    "cur.execute(\"GRANT CONNECT ON DATABASE crime_db8 TO readonly;\")\n",
    "cur.execute(\"GRANT CONNECT ON DATABASE crime_db8 TO readwrite;\")\n",
    "cur.execute(\"GRANT USAGE ON SCHEMA crimes TO readonly;\")\n",
    "cur.execute(\"GRANT USAGE ON SCHEMA crimes TO readwrite;\")\n",
    "cur.execute(\"GRANT SELECT ON ALL TABLES IN SCHEMA crimes TO readonly;\")\n",
    "cur.execute(\"GRANT SELECT,INSERT,DELETE,UPDATE ON ALL TABLES IN SCHEMA crimes TO readwrite;\")\n",
    "conn.commit()\n",
    "conn.close()\n"
   ]
  },
  {
   "cell_type": "markdown",
   "id": "3680f7c6",
   "metadata": {},
   "source": [
    "# Create Data analyst and Data Scientist user and grant them readonly and readwrite access."
   ]
  },
  {
   "cell_type": "code",
   "execution_count": 13,
   "id": "8fc69782",
   "metadata": {},
   "outputs": [
    {
     "ename": "DuplicateObject",
     "evalue": "role \"data_analyst\" already exists\n",
     "output_type": "error",
     "traceback": [
      "\u001b[1;31m---------------------------------------------------------------------------\u001b[0m",
      "\u001b[1;31mDuplicateObject\u001b[0m                           Traceback (most recent call last)",
      "Cell \u001b[1;32mIn[13], line 4\u001b[0m\n\u001b[0;32m      2\u001b[0m conn\u001b[38;5;241m.\u001b[39mautocommit \u001b[38;5;241m=\u001b[39m \u001b[38;5;28;01mTrue\u001b[39;00m\n\u001b[0;32m      3\u001b[0m cur \u001b[38;5;241m=\u001b[39m conn\u001b[38;5;241m.\u001b[39mcursor()\n\u001b[1;32m----> 4\u001b[0m cur\u001b[38;5;241m.\u001b[39mexecute(\u001b[38;5;124m\"\u001b[39m\u001b[38;5;124mCREATE USER data_analyst WITH PASSWORD \u001b[39m\u001b[38;5;124m'\u001b[39m\u001b[38;5;124mdatanalyst\u001b[39m\u001b[38;5;124m'\u001b[39m\u001b[38;5;124m;\u001b[39m\u001b[38;5;124m\"\u001b[39m)\n\u001b[0;32m      5\u001b[0m cur\u001b[38;5;241m.\u001b[39mexecute(\u001b[38;5;124m\"\u001b[39m\u001b[38;5;124mCREATE USER data_scientist WITH PASSWORD \u001b[39m\u001b[38;5;124m'\u001b[39m\u001b[38;5;124mdatascientist\u001b[39m\u001b[38;5;124m'\u001b[39m\u001b[38;5;124m;\u001b[39m\u001b[38;5;124m\"\u001b[39m)\n\u001b[0;32m      6\u001b[0m cur\u001b[38;5;241m.\u001b[39mexecute(\u001b[38;5;124m\"\u001b[39m\u001b[38;5;124mGRANT readonly TO data_analyst;\u001b[39m\u001b[38;5;124m\"\u001b[39m)\n",
      "\u001b[1;31mDuplicateObject\u001b[0m: role \"data_analyst\" already exists\n"
     ]
    }
   ],
   "source": [
    "conn = psycopg2.connect(dbname =\"crime_db8\",user = \"postgres\",password = \"Neha@1234\")\n",
    "conn.autocommit = True\n",
    "cur = conn.cursor()\n",
    "cur.execute(\"CREATE USER data_analyst WITH PASSWORD 'datanalyst';\")\n",
    "cur.execute(\"CREATE USER data_scientist WITH PASSWORD 'datascientist';\")\n",
    "cur.execute(\"GRANT readonly TO data_analyst;\")\n",
    "cur.execute(\"GRANT readwrite TO data_scientist;\")\n",
    "conn.commit()\n",
    "conn.close()"
   ]
  },
  {
   "cell_type": "markdown",
   "id": "3d4ddbcb",
   "metadata": {},
   "source": [
    "# Final testing for all the roles"
   ]
  },
  {
   "cell_type": "code",
   "execution_count": null,
   "id": "76a03482",
   "metadata": {},
   "outputs": [],
   "source": [
    "conn = psycopg2.connect(dbname =\"crime_db8\",user = \"postgres\",password = \"Neha@1234\")\n",
    "conn.autocommit = True\n",
    "cur = conn.cursor()\n",
    "# Check users and groups.\n",
    "cur.execute(\"\"\"\n",
    "    SELECT rolname, rolsuper, rolcreaterole, rolcreatedb, rolcanlogin FROM pg_roles\n",
    "    WHERE rolname IN ('readonly', 'readwrite', 'data_analyst', 'data_scientist');\n",
    "\"\"\")\n",
    "for user in cur:\n",
    "    print(user)\n",
    "print()\n",
    "# check privileges\n",
    "cur.execute(\"\"\"\n",
    "    SELECT grantee, privilege_type\n",
    "    FROM information_schema.table_privileges\n",
    "    WHERE grantee IN ('readonly', 'readwrite');\n",
    "\"\"\")\n",
    "for user in cur:\n",
    "    print(user)\n",
    "conn.close()"
   ]
  },
  {
   "cell_type": "code",
   "execution_count": null,
   "id": "90ab54a5",
   "metadata": {},
   "outputs": [],
   "source": []
  }
 ],
 "metadata": {
  "kernelspec": {
   "display_name": "Python 3 (ipykernel)",
   "language": "python",
   "name": "python3"
  },
  "language_info": {
   "codemirror_mode": {
    "name": "ipython",
    "version": 3
   },
   "file_extension": ".py",
   "mimetype": "text/x-python",
   "name": "python",
   "nbconvert_exporter": "python",
   "pygments_lexer": "ipython3",
   "version": "3.11.5"
  }
 },
 "nbformat": 4,
 "nbformat_minor": 5
}
